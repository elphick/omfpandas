{
  "cells": [
    {
      "cell_type": "markdown",
      "metadata": {},
      "source": [
        "\n# OMF Block Model to DataFrame\n\nAn omf TensorGridBlockModel represents a `Block Model`, and can be converted to a Pandas DataFrame.\n"
      ]
    },
    {
      "cell_type": "code",
      "execution_count": null,
      "metadata": {
        "collapsed": false
      },
      "outputs": [],
      "source": [
        "from pathlib import Path\n\nimport pandas as pd\n\nfrom omfpandas import OMFPandasReader"
      ]
    },
    {
      "cell_type": "markdown",
      "metadata": {},
      "source": [
        "## Instantiate\nCreate the object OMFPandas with the path to the OMF file.\n\n"
      ]
    },
    {
      "cell_type": "code",
      "execution_count": null,
      "metadata": {
        "collapsed": false
      },
      "outputs": [],
      "source": [
        "test_omf_path: Path = Path('../assets/test_file.omf')\nomfp: OMFPandasReader = OMFPandasReader(filepath=test_omf_path)"
      ]
    },
    {
      "cell_type": "markdown",
      "metadata": {},
      "source": [
        "We'll inspect the elements in the omf file, and determine what volume element to convert.\n\n"
      ]
    },
    {
      "cell_type": "code",
      "execution_count": null,
      "metadata": {
        "collapsed": false
      },
      "outputs": [],
      "source": [
        "omfp.element_types"
      ]
    },
    {
      "cell_type": "markdown",
      "metadata": {},
      "source": [
        "## Read\nWe can see by inspection that we have one volume element in the omf file called *vol*, so we will\nconvert that to a Pandas DataFrame.\n\n"
      ]
    },
    {
      "cell_type": "code",
      "execution_count": null,
      "metadata": {
        "collapsed": false
      },
      "outputs": [],
      "source": [
        "blocks: pd.DataFrame = omfp.read_blockmodel(blockmodel_name='regular', attributes=None)\nprint(f\"DataFrame shape: {blocks.shape}\")\nblocks.head()"
      ]
    },
    {
      "cell_type": "markdown",
      "metadata": {},
      "source": [
        "The index contains the centroid coordinates and the dimensions of the block.\nThe columns contain the *cell* variables in the block model. Data assigned as points (at the grid vertices) are not\nincluded in the DataFrame.\n\n"
      ]
    },
    {
      "cell_type": "markdown",
      "metadata": {},
      "source": [
        "## Filter\nStandard pandas query expressions can be used to filter the returned data.\n\n"
      ]
    },
    {
      "cell_type": "code",
      "execution_count": null,
      "metadata": {
        "collapsed": false
      },
      "outputs": [],
      "source": [
        "blocks_filtered: pd.DataFrame = omfp.read_blockmodel(blockmodel_name='regular', attributes=None, query='`random attr`>0.5')\nprint(f\"DataFrame shape: {blocks_filtered.shape}\")\nblocks_filtered.head()"
      ]
    }
  ],
  "metadata": {
    "kernelspec": {
      "display_name": "Python 3",
      "language": "python",
      "name": "python3"
    },
    "language_info": {
      "codemirror_mode": {
        "name": "ipython",
        "version": 3
      },
      "file_extension": ".py",
      "mimetype": "text/x-python",
      "name": "python",
      "nbconvert_exporter": "python",
      "pygments_lexer": "ipython3",
      "version": "3.12.9"
    }
  },
  "nbformat": 4,
  "nbformat_minor": 0
}