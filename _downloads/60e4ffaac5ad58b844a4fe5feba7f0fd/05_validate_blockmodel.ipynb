{
  "cells": [
    {
      "cell_type": "markdown",
      "metadata": {},
      "source": [
        "\n# Validate BlockModel\n\nThis example demonstrates how to validate a pandas block model with a pandera schema prior to writing it to an OMF file.\n"
      ]
    },
    {
      "cell_type": "code",
      "execution_count": null,
      "metadata": {
        "collapsed": false
      },
      "outputs": [],
      "source": [
        "import shutil\nimport tempfile\nfrom pathlib import Path\n\nimport pandas as pd\n\nfrom omfpandas import OMFPandasReader, OMFPandasWriter"
      ]
    },
    {
      "cell_type": "markdown",
      "metadata": {},
      "source": [
        "## Instantiate\nCreate the object OMFPandas with the path to the OMF file.\n\n"
      ]
    },
    {
      "cell_type": "code",
      "execution_count": null,
      "metadata": {
        "collapsed": false
      },
      "outputs": [],
      "source": [
        "test_omf_path: Path = Path('../assets/test_file.omf')\n\n# create a temporary copy to preserve the original file\ntemp_omf_path: Path = Path(tempfile.gettempdir()) / 'test_file_copy.omf'\nshutil.copy(test_omf_path, temp_omf_path)\n\n# Display the head of the original block model\nblocks: pd.DataFrame = OMFPandasReader(filepath=temp_omf_path).read_blockmodel(blockmodel_name='regular')\nblocks.head()"
      ]
    },
    {
      "cell_type": "markdown",
      "metadata": {},
      "source": [
        "## Write with Schema\nThe schema used to validate the dataframe is a Pandera schema.  The schema can be a YAML file (or Pandera compatible\ndictionary) that is loaded by the Pandera library.  The schema is used to validate the dataframe before writing it\nto the OMF file.\n\n"
      ]
    },
    {
      "cell_type": "code",
      "execution_count": null,
      "metadata": {
        "collapsed": false
      },
      "outputs": [],
      "source": [
        "omfpw: OMFPandasWriter = OMFPandasWriter(filepath=temp_omf_path)"
      ]
    },
    {
      "cell_type": "code",
      "execution_count": null,
      "metadata": {
        "collapsed": false
      },
      "outputs": [],
      "source": [
        "omfpw.create_blockmodel(blocks=blocks, blockmodel_name='regular',\n                        pd_schema=test_omf_path.with_suffix('.schema.yaml'),\n                        allow_overwrite=True)"
      ]
    },
    {
      "cell_type": "markdown",
      "metadata": {},
      "source": [
        "The schema is persisted inside the omf file.  This enables the schema to be used to validate modifications.\n\n"
      ]
    },
    {
      "cell_type": "code",
      "execution_count": null,
      "metadata": {
        "collapsed": false
      },
      "outputs": [],
      "source": [
        "bm = omfpw.get_element_by_name('regular')\nprint(bm.metadata.get('pd_schema'))"
      ]
    },
    {
      "cell_type": "markdown",
      "metadata": {},
      "source": [
        "## Demonstrate Failure\nWe'll demonstrate a failure by modifying the block model in a way that violates the schema.\n\n"
      ]
    },
    {
      "cell_type": "code",
      "execution_count": null,
      "metadata": {
        "collapsed": false
      },
      "outputs": [],
      "source": [
        "blocks['random attr'] = blocks['random attr'] * 2\n\ntry:\n    omfpw.create_blockmodel(blocks=blocks, blockmodel_name='regular',\n                            pd_schema=test_omf_path.with_suffix('.schema.yaml'),\n                            allow_overwrite=True)\nexcept Exception as e:\n    print(e)"
      ]
    },
    {
      "cell_type": "markdown",
      "metadata": {},
      "source": [
        "Update with valid data\n\n"
      ]
    },
    {
      "cell_type": "code",
      "execution_count": null,
      "metadata": {
        "collapsed": false
      },
      "outputs": [],
      "source": [
        "omfpw.write_blockmodel_attribute(blockmodel_name='regular', series=blocks['random attr'] / 4, allow_overwrite=True)\n\nblocks: pd.DataFrame = OMFPandasReader(filepath=temp_omf_path).read_blockmodel(blockmodel_name='regular')\nblocks.head()"
      ]
    },
    {
      "cell_type": "markdown",
      "metadata": {},
      "source": [
        "## View the changelog\n\n"
      ]
    },
    {
      "cell_type": "code",
      "execution_count": null,
      "metadata": {
        "collapsed": false
      },
      "outputs": [],
      "source": [
        "omfpw.changelog"
      ]
    },
    {
      "cell_type": "markdown",
      "metadata": {},
      "source": [
        "Clean up\n\n"
      ]
    },
    {
      "cell_type": "code",
      "execution_count": null,
      "metadata": {
        "collapsed": false
      },
      "outputs": [],
      "source": [
        "temp_omf_path.unlink()"
      ]
    }
  ],
  "metadata": {
    "kernelspec": {
      "display_name": "Python 3",
      "language": "python",
      "name": "python3"
    },
    "language_info": {
      "codemirror_mode": {
        "name": "ipython",
        "version": 3
      },
      "file_extension": ".py",
      "mimetype": "text/x-python",
      "name": "python",
      "nbconvert_exporter": "python",
      "pygments_lexer": "ipython3",
      "version": "3.12.9"
    }
  },
  "nbformat": 4,
  "nbformat_minor": 0
}