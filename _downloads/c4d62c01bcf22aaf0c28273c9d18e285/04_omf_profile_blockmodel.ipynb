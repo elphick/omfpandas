{
  "cells": [
    {
      "cell_type": "markdown",
      "metadata": {},
      "source": [
        "\n# OMF Profile Block Model\n\nProfiling a dataset is a common task in data analysis.  This example demonstrates how to profile an OMF block model.\nThe profile report is persisted inside the omf file.\n"
      ]
    },
    {
      "cell_type": "code",
      "execution_count": null,
      "metadata": {
        "collapsed": false
      },
      "outputs": [],
      "source": [
        "import shutil\nimport tempfile\nfrom pathlib import Path\n\nimport pandas as pd\n\nfrom omfpandas import OMFPandasReader, OMFPandasWriter"
      ]
    },
    {
      "cell_type": "markdown",
      "metadata": {},
      "source": [
        "## Instantiate\nCreate the object OMFPandas with the path to the OMF file.\n\n"
      ]
    },
    {
      "cell_type": "code",
      "execution_count": null,
      "metadata": {
        "collapsed": false
      },
      "outputs": [],
      "source": [
        "test_omf_path: Path = Path('../assets/test_file.omf')\n\n# create a temporary copy to preserve the original file\ntemp_omf_path: Path = Path(tempfile.gettempdir()) / 'test_file_copy.omf'\nshutil.copy(test_omf_path, temp_omf_path)\n\n# Display the head of the original block model\nblocks: pd.DataFrame = OMFPandasReader(filepath=temp_omf_path).read_blockmodel(blockmodel_name='regular')\nblocks.head()"
      ]
    },
    {
      "cell_type": "markdown",
      "metadata": {},
      "source": [
        "## Profile\nCreate the writer, write the pandera schema and the profile report into the file.\nThe use of a pandera schema is optional, but it provides a way to describe the attributes in the dataset.\n\n"
      ]
    },
    {
      "cell_type": "code",
      "execution_count": null,
      "metadata": {
        "collapsed": false
      },
      "outputs": [],
      "source": [
        "omfpw: OMFPandasWriter = OMFPandasWriter(filepath=temp_omf_path)\nomfpw.write_block_model_schema(blockmodel_name='regular', pd_schema_filepath=test_omf_path.with_suffix('.schema.yaml'))\nomfpw.profile_blockmodel(blockmodel_name='regular')"
      ]
    },
    {
      "cell_type": "markdown",
      "metadata": {},
      "source": [
        "View the profile report, which benefits from the attribute descriptions from the schema.\n\n"
      ]
    },
    {
      "cell_type": "code",
      "execution_count": null,
      "metadata": {
        "collapsed": false
      },
      "outputs": [],
      "source": [
        "omfpw.view_block_model_profile(blockmodel_name='regular')"
      ]
    },
    {
      "cell_type": "markdown",
      "metadata": {},
      "source": [
        "Profile a subset with a query filter string\n\n"
      ]
    },
    {
      "cell_type": "code",
      "execution_count": null,
      "metadata": {
        "collapsed": false
      },
      "outputs": [],
      "source": [
        "omfpw.profile_blockmodel(blockmodel_name='regular', query='`random attr`>0.5')"
      ]
    },
    {
      "cell_type": "markdown",
      "metadata": {},
      "source": [
        "View the profile report of the subset.  The dataset tab in the profile report describes the filter applied to the\ndataset.\n\n"
      ]
    },
    {
      "cell_type": "code",
      "execution_count": null,
      "metadata": {
        "collapsed": false
      },
      "outputs": [],
      "source": [
        "omfpw.view_block_model_profile(blockmodel_name='regular', query='`random attr`>0.5')"
      ]
    }
  ],
  "metadata": {
    "kernelspec": {
      "display_name": "Python 3",
      "language": "python",
      "name": "python3"
    },
    "language_info": {
      "codemirror_mode": {
        "name": "ipython",
        "version": 3
      },
      "file_extension": ".py",
      "mimetype": "text/x-python",
      "name": "python",
      "nbconvert_exporter": "python",
      "pygments_lexer": "ipython3",
      "version": "3.12.9"
    }
  },
  "nbformat": 4,
  "nbformat_minor": 0
}