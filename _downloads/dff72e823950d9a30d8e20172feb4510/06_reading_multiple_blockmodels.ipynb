{
  "cells": [
    {
      "cell_type": "markdown",
      "metadata": {},
      "source": [
        "\n# Reading Multiple Block Models\n\nOMF allows storage of multiple block models in a single file.  This example demonstrates how to read multiple\nblock models to return a single pandas dataframe\n"
      ]
    },
    {
      "cell_type": "code",
      "execution_count": null,
      "metadata": {
        "collapsed": false
      },
      "outputs": [],
      "source": [
        "import tempfile\nfrom pathlib import Path\n\nimport numpy as np\nimport omf\n\nfrom omfpandas import OMFPandasReader"
      ]
    },
    {
      "cell_type": "markdown",
      "metadata": {},
      "source": [
        "## Instantiate\nCreate a function to generate a temporary omf file containing two block models.\n\n"
      ]
    },
    {
      "cell_type": "code",
      "execution_count": null,
      "metadata": {
        "collapsed": false
      },
      "outputs": [],
      "source": [
        "def create_demo_tensor_model(shape: tuple[int, int, int],\n                             cell_size: tuple[float, float, float],\n                             name: str,\n                             attr_names: list[str]) -> omf.TensorGridBlockModel:\n    \"\"\"Create a tensor grid block model with random attributes\"\"\"\n    return omf.TensorGridBlockModel(\n        name=name,\n        tensor_u=np.full(shape[0], cell_size[0], dtype='float32'),\n        tensor_v=np.full(shape[1], cell_size[1], dtype='float32'),\n        tensor_w=np.full(shape[2], cell_size[2], dtype='float32'),\n        attributes=[omf.NumericAttribute(name=attr_name, location=\"cells\",\n                                         array=np.random.rand(shape[0] * shape[1] * shape[2]).ravel()) for\n                    attr_name in attr_names])\n\n\ndef create_temp_omf_file() -> Path:\n    \"\"\"Creates an omf file directly using omf and numpy\"\"\"\n\n    project = omf.Project(name='Test Project')\n\n    # Create block models\n    block_model_1 = create_demo_tensor_model((10, 10, 10), (10, 10, 10), 'BlockModel1', ['attr1', 'attr2'])\n\n    block_model_2 = create_demo_tensor_model((10, 10, 10), (10, 10, 10), 'BlockModel2', ['attr3', 'attr4'])\n\n    project.elements = [block_model_1, block_model_2]\n\n    # Save to a temporary file\n    temp_file = tempfile.NamedTemporaryFile(delete=False, suffix='.omf')\n    omf.save(project, temp_file.name, mode='w')\n    return Path(temp_file.name)\n\n\ntemp_omf_path = create_temp_omf_file()\nreader = OMFPandasReader(temp_omf_path)\nreader"
      ]
    },
    {
      "cell_type": "markdown",
      "metadata": {},
      "source": [
        "## Read from block models\nWe'll demonstrate how to selectively merge attributes from each of the two block models to create a single dataframe.\nThe `read_block_models` method accepts a dictionary where the keys are the block model names and the values are lists\nof attribute names to include in the dataframe.  If None is provided for the attribute list, all attributes\n\n\n"
      ]
    },
    {
      "cell_type": "code",
      "execution_count": null,
      "metadata": {
        "collapsed": false
      },
      "outputs": [],
      "source": [
        "blockmodel_attributes = {'BlockModel1': None, 'BlockModel2': ['attr4']}\n\ndf = reader.read_block_models(blockmodel_attributes)\ndf.head(20)"
      ]
    },
    {
      "cell_type": "markdown",
      "metadata": {},
      "source": [
        "Check if the DataFrame contains the expected columns\n\n"
      ]
    },
    {
      "cell_type": "code",
      "execution_count": null,
      "metadata": {
        "collapsed": false
      },
      "outputs": [],
      "source": [
        "expected_columns = ['attr1', 'attr2', 'attr4']\nassert all(col in df.columns for col in expected_columns)"
      ]
    },
    {
      "cell_type": "markdown",
      "metadata": {},
      "source": [
        "Clean up temporary file\n\n"
      ]
    },
    {
      "cell_type": "code",
      "execution_count": null,
      "metadata": {
        "collapsed": false
      },
      "outputs": [],
      "source": [
        "temp_omf_path.unlink()"
      ]
    }
  ],
  "metadata": {
    "kernelspec": {
      "display_name": "Python 3",
      "language": "python",
      "name": "python3"
    },
    "language_info": {
      "codemirror_mode": {
        "name": "ipython",
        "version": 3
      },
      "file_extension": ".py",
      "mimetype": "text/x-python",
      "name": "python",
      "nbconvert_exporter": "python",
      "pygments_lexer": "ipython3",
      "version": "3.12.9"
    }
  },
  "nbformat": 4,
  "nbformat_minor": 0
}