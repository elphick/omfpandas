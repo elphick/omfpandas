{
  "cells": [
    {
      "cell_type": "markdown",
      "metadata": {},
      "source": [
        "\n# Visualise a BlockModel\n\nIt is always useful to visually validate our data. In this example, we will read a block model from an OMF file and\nvisualise it using PyVista.\n"
      ]
    },
    {
      "cell_type": "code",
      "execution_count": null,
      "metadata": {
        "collapsed": false
      },
      "outputs": [],
      "source": [
        "import shutil\nfrom pathlib import Path\n\nimport pandas as pd\n\nfrom omfpandas import OMFPandasReader, OMFPandasWriter\nfrom omfpandas.blockmodels.convert_blockmodel import df_to_regular_bm, blockmodel_to_df"
      ]
    },
    {
      "cell_type": "markdown",
      "metadata": {},
      "source": [
        "## Instantiate\nCreate the object OMFPandas with the path to the OMF file.\n\n"
      ]
    },
    {
      "cell_type": "code",
      "execution_count": null,
      "metadata": {
        "collapsed": false
      },
      "outputs": [],
      "source": [
        "test_omf_path: Path = Path('../assets/copper_deposit.omf')\nomfpr: OMFPandasReader = OMFPandasReader(filepath=test_omf_path)"
      ]
    },
    {
      "cell_type": "markdown",
      "metadata": {},
      "source": [
        "We'll inspect the elements in the omf file, and determine what volume element to convert.\n\n"
      ]
    },
    {
      "cell_type": "code",
      "execution_count": null,
      "metadata": {
        "collapsed": false
      },
      "outputs": [],
      "source": [
        "omfpr.element_types"
      ]
    },
    {
      "cell_type": "markdown",
      "metadata": {},
      "source": [
        "## Read\nWe can see by inspection that we have a TensorGridBlockModel in the omf file called *Block Model*, so we will\nconvert that to a Pandas DataFrame, simply for the purposes of showing the first few records.\n\n"
      ]
    },
    {
      "cell_type": "code",
      "execution_count": null,
      "metadata": {
        "collapsed": false
      },
      "outputs": [],
      "source": [
        "blocks: pd.DataFrame = omfpr.read_blockmodel(blockmodel_name='Block Model', attributes=None)\nprint(f\"DataFrame shape: {blocks.shape}\")\nblocks.head()"
      ]
    },
    {
      "cell_type": "markdown",
      "metadata": {},
      "source": [
        "We read the block model and convert it to an OMFBlockModel object\n\n"
      ]
    },
    {
      "cell_type": "code",
      "execution_count": null,
      "metadata": {
        "collapsed": false
      },
      "outputs": [],
      "source": [
        "from omfpandas.blockmodel import OMFBlockModel\n\nbm: OMFBlockModel = OMFBlockModel(omfpr.get_element_by_name('Block Model'))"
      ]
    },
    {
      "cell_type": "markdown",
      "metadata": {},
      "source": [
        "## Visualise\nWe can visualise the block model using PyVista.\n\n"
      ]
    },
    {
      "cell_type": "code",
      "execution_count": null,
      "metadata": {
        "collapsed": false
      },
      "outputs": [],
      "source": [
        "p = bm.plot(scalar='CU_pct')\np.show()"
      ]
    },
    {
      "cell_type": "markdown",
      "metadata": {},
      "source": [
        "Create a regular model\n\n"
      ]
    },
    {
      "cell_type": "code",
      "execution_count": null,
      "metadata": {
        "collapsed": false
      },
      "outputs": [],
      "source": [
        "# ----------------------\n# We can only do this since this particular tensor model has consistent block sizes.\n#\n# Make a copy of the file first.\n\ndemo_omf_filepath: Path = shutil.copy2(test_omf_path, test_omf_path.with_suffix('.modified.omf'))\n\nregular_bm = df_to_regular_bm(blockmodel_name='Regular Block Model', df=blocks.droplevel(level=['dx', 'dy', 'dz']))\nregular_blocks: pd.DataFrame = blockmodel_to_df(regular_bm)\n\nomfpw: OMFPandasWriter = OMFPandasWriter(filepath=demo_omf_filepath)\nomfpw.create_blockmodel(blocks=regular_blocks, blockmodel_name='Regular Block Model')"
      ]
    },
    {
      "cell_type": "markdown",
      "metadata": {},
      "source": [
        "## Visualise Regular Model\n\n"
      ]
    },
    {
      "cell_type": "code",
      "execution_count": null,
      "metadata": {
        "collapsed": false
      },
      "outputs": [],
      "source": [
        "bm_regular: OMFBlockModel = OMFBlockModel(omfpw.get_element_by_name('Regular Block Model'))\np = bm_regular.plot(scalar='CU_pct')\np.show()"
      ]
    }
  ],
  "metadata": {
    "kernelspec": {
      "display_name": "Python 3",
      "language": "python",
      "name": "python3"
    },
    "language_info": {
      "codemirror_mode": {
        "name": "ipython",
        "version": 3
      },
      "file_extension": ".py",
      "mimetype": "text/x-python",
      "name": "python",
      "nbconvert_exporter": "python",
      "pygments_lexer": "ipython3",
      "version": "3.12.9"
    }
  },
  "nbformat": 4,
  "nbformat_minor": 0
}