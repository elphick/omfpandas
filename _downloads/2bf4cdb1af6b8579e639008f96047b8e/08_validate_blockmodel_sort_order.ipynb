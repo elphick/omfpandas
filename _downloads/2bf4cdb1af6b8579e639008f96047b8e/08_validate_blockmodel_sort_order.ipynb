{
  "cells": [
    {
      "cell_type": "markdown",
      "metadata": {},
      "source": [
        "\n# Validate BlockModel Sort Order\n\nA block model is a 3D array of cells, each with a set of attributes.  However, it is convenient to represent the\nattributes as a vector.  The order of the data in the vector is determined by the order used in this (ravel) conversion.\n\nThe ravel order for OMF is C-style (row-major order).\nThe ravel order for Pandas is C-style (row-major order).\nThe ravel order for PyVista is F-style (column-major order).\n\n- C-style - row-major order:  The last index (z) changes the fastest.  The first index (x) changes the slowest. :code:`df.sort_index(['x', 'y', 'z'])`\n- F-style - column-major order:  The first index (x) changes the fastest.  The last index (z) changes the slowest. :code:`df.sort_index(['z', 'y', 'x'])`\n\nThis script completes some validations on the sort order of the block model data:\n\n- parquet file -> dataframe\n- dataframe -> omf file / regular block model\n- omf file / regular block model -> dataframe\n- pyvista visualisation\n\nTo conduct this test we use a small block model of shape (5, 4, 3) with a depth attribute.\n\nSo we will round-trip the data from the dataframe to the omf file, and back to a dataframe.\nWe will also check the visualisation performs as expected.\n"
      ]
    },
    {
      "cell_type": "code",
      "execution_count": null,
      "metadata": {
        "collapsed": false
      },
      "outputs": [],
      "source": [
        "from pathlib import Path\n\nimport numpy as np\nimport pandas as pd\nimport pyvista as pv\n\nfrom omfpandas import OMFPandasWriter\nfrom omfpandas.utils import create_test_blockmodel"
      ]
    },
    {
      "cell_type": "markdown",
      "metadata": {},
      "source": [
        "## Create Block Model Dataframe\n\n"
      ]
    },
    {
      "cell_type": "code",
      "execution_count": null,
      "metadata": {
        "collapsed": false
      },
      "outputs": [],
      "source": [
        "shape = (5, 4, 3)\nblock_size = (1.0, 1.0, 0.5)\ncorner = (100.0, 200.0, 300.0)\n\nblocks: pd.DataFrame = create_test_blockmodel(shape, block_size, corner)"
      ]
    },
    {
      "cell_type": "markdown",
      "metadata": {},
      "source": [
        "The dataframe is C-style (x, y, z).  The last index (z) changes the fastest.\n\n"
      ]
    },
    {
      "cell_type": "code",
      "execution_count": null,
      "metadata": {
        "collapsed": false
      },
      "outputs": [],
      "source": [
        "blocks"
      ]
    },
    {
      "cell_type": "markdown",
      "metadata": {},
      "source": [
        "Sort to F-style (z, y, x).  The first index (x) changes the fastest.\n\n"
      ]
    },
    {
      "cell_type": "code",
      "execution_count": null,
      "metadata": {
        "collapsed": false
      },
      "outputs": [],
      "source": [
        "blocks.sort_index(level=['z', 'y', 'x'])"
      ]
    },
    {
      "cell_type": "markdown",
      "metadata": {},
      "source": [
        "## Sort Order Check\nCheck the ordering by first sorting by x,y,z and confirming the c-raveled attribute is monotonic.\n\n"
      ]
    },
    {
      "cell_type": "code",
      "execution_count": null,
      "metadata": {
        "collapsed": false
      },
      "outputs": [],
      "source": [
        "assert np.array_equal(blocks.sort_index(level=['x', 'y', 'z'])['c_style_xyz'].values, np.arange(len(blocks)))"
      ]
    },
    {
      "cell_type": "markdown",
      "metadata": {},
      "source": [
        "Similarly, sort by z,y,x and confirm the f-raveled attribute is monotonic.\n\n"
      ]
    },
    {
      "cell_type": "code",
      "execution_count": null,
      "metadata": {
        "collapsed": false
      },
      "outputs": [],
      "source": [
        "assert np.array_equal(blocks.sort_index(level=['z', 'y', 'x'])['f_style_zyx'].values, np.arange(len(blocks)))"
      ]
    },
    {
      "cell_type": "markdown",
      "metadata": {},
      "source": [
        "## Create OMF\n\n"
      ]
    },
    {
      "cell_type": "code",
      "execution_count": null,
      "metadata": {
        "collapsed": false
      },
      "outputs": [],
      "source": [
        "omfp: OMFPandasWriter = OMFPandasWriter(filepath='test_blockmodel.omf')\nomfp.create_blockmodel(blocks=blocks, blockmodel_name='sort_check', allow_overwrite=True)"
      ]
    },
    {
      "cell_type": "markdown",
      "metadata": {},
      "source": [
        "## Export to Pandas\nCheck the round trip: pandas > omf > pandas\n\n"
      ]
    },
    {
      "cell_type": "code",
      "execution_count": null,
      "metadata": {
        "collapsed": false
      },
      "outputs": [],
      "source": [
        "blocks_omf = omfp.read_blockmodel(blockmodel_name='sort_check')\n\npd.testing.assert_frame_equal(blocks, blocks_omf)"
      ]
    },
    {
      "cell_type": "markdown",
      "metadata": {},
      "source": [
        "## Visualise\nPlot the depth attribute to confirm the sort order is as expected.\n\n"
      ]
    },
    {
      "cell_type": "code",
      "execution_count": null,
      "metadata": {
        "collapsed": false
      },
      "outputs": [],
      "source": [
        "p = omfp.plot_blockmodel(blockmodel_name='sort_check', scalar='depth', threshold=False)\np.show()"
      ]
    },
    {
      "cell_type": "markdown",
      "metadata": {},
      "source": [
        "Plot the c-raveled attribute.\n\n"
      ]
    },
    {
      "cell_type": "code",
      "execution_count": null,
      "metadata": {
        "collapsed": false
      },
      "outputs": [],
      "source": [
        "p: pv.Plotter = omfp.plot_blockmodel(blockmodel_name='sort_check', scalar='c_style_xyz', threshold=False)\np.show()"
      ]
    },
    {
      "cell_type": "markdown",
      "metadata": {},
      "source": [
        "Plot the f-raveled attribute.\n\n"
      ]
    },
    {
      "cell_type": "code",
      "execution_count": null,
      "metadata": {
        "collapsed": false
      },
      "outputs": [],
      "source": [
        "p = omfp.plot_blockmodel(blockmodel_name='sort_check', scalar='f_style_zyx', threshold=False)\np.show()"
      ]
    }
  ],
  "metadata": {
    "kernelspec": {
      "display_name": "Python 3",
      "language": "python",
      "name": "python3"
    },
    "language_info": {
      "codemirror_mode": {
        "name": "ipython",
        "version": 3
      },
      "file_extension": ".py",
      "mimetype": "text/x-python",
      "name": "python",
      "nbconvert_exporter": "python",
      "pygments_lexer": "ipython3",
      "version": "3.12.9"
    }
  },
  "nbformat": 4,
  "nbformat_minor": 0
}