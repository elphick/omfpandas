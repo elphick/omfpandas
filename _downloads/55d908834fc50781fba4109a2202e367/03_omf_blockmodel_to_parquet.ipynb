{
  "cells": [
    {
      "cell_type": "markdown",
      "metadata": {},
      "source": [
        "\n# OMF Block Model to Parquet\n\nA parquet file is a columnar storage format, enabling column by column reading and writing.  This can be used\nto reduce memory consumption.  This example demonstrates how to convert an OMF block model to a Parquet file.\n\n<div class=\"alert alert-info\"><h4>Note</h4><p>Presently there is no low-memory option for this method, so it is not suitable for very large files.\n   As such it offers no advantage over the standard Pandas method for saving to Parquet.\n   However, this is the first step in a series of methods that will allow for more efficient handling of large files.</p></div>\n"
      ]
    },
    {
      "cell_type": "code",
      "execution_count": null,
      "metadata": {
        "collapsed": false
      },
      "outputs": [],
      "source": [
        "from pathlib import Path\n\nimport pandas as pd\n\nfrom omfpandas import OMFPandasReader, OMFPandasWriter"
      ]
    },
    {
      "cell_type": "markdown",
      "metadata": {},
      "source": [
        "## Instantiate\nCreate the object OMFPandas with the path to the OMF file.\n\n"
      ]
    },
    {
      "cell_type": "code",
      "execution_count": null,
      "metadata": {
        "collapsed": false
      },
      "outputs": [],
      "source": [
        "test_omf_path: Path = Path('../assets/test_file.omf')\nomf_writer: OMFPandasWriter = OMFPandasWriter(filepath=test_omf_path)\n\n# Display the head of the original block model\nblocks: pd.DataFrame = OMFPandasReader(filepath=test_omf_path).read_blockmodel(blockmodel_name='regular')\nprint(\"Original DataFrame:\")\nblocks.head()"
      ]
    },
    {
      "cell_type": "markdown",
      "metadata": {},
      "source": [
        "## Convert\nView the elements in the OMF file first.\n\n"
      ]
    },
    {
      "cell_type": "code",
      "execution_count": null,
      "metadata": {
        "collapsed": false
      },
      "outputs": [],
      "source": [
        "print(omf_writer.element_types)"
      ]
    },
    {
      "cell_type": "markdown",
      "metadata": {},
      "source": [
        "Convert 'Block Model' to a Parquet file.\n\n"
      ]
    },
    {
      "cell_type": "code",
      "execution_count": null,
      "metadata": {
        "collapsed": false
      },
      "outputs": [],
      "source": [
        "omf_writer.blockmodel_to_parquet(blockmodel_name='regular', out_path=Path('blocks.parquet'),\n                                 allow_overwrite=True)"
      ]
    },
    {
      "cell_type": "markdown",
      "metadata": {},
      "source": [
        "## Load the Parquet\nReload the Parquet file and display the head.\n\n"
      ]
    },
    {
      "cell_type": "code",
      "execution_count": null,
      "metadata": {
        "collapsed": false
      },
      "outputs": [],
      "source": [
        "blocks_2: pd.DataFrame = pd.read_parquet('blocks.parquet')\nprint(\"Reloaded DataFrame:\")\nblocks_2.head()"
      ]
    },
    {
      "cell_type": "markdown",
      "metadata": {},
      "source": [
        "## Validate\nAssert that the original DataFrame and the reloaded DataFrame are equivalent\n\n"
      ]
    },
    {
      "cell_type": "code",
      "execution_count": null,
      "metadata": {
        "collapsed": false
      },
      "outputs": [],
      "source": [
        "assert blocks.equals(blocks_2)"
      ]
    }
  ],
  "metadata": {
    "kernelspec": {
      "display_name": "Python 3",
      "language": "python",
      "name": "python3"
    },
    "language_info": {
      "codemirror_mode": {
        "name": "ipython",
        "version": 3
      },
      "file_extension": ".py",
      "mimetype": "text/x-python",
      "name": "python",
      "nbconvert_exporter": "python",
      "pygments_lexer": "ipython3",
      "version": "3.12.9"
    }
  },
  "nbformat": 4,
  "nbformat_minor": 0
}